{
  "nbformat": 4,
  "nbformat_minor": 0,
  "metadata": {
    "colab": {
      "provenance": []
    },
    "kernelspec": {
      "name": "python3",
      "display_name": "Python 3"
    },
    "language_info": {
      "name": "python"
    }
  },
  "cells": [
    {
      "cell_type": "markdown",
      "source": [
        "# **Statistics Basics Assignment**\n",
        "\n",
        "---\n",
        "\n"
      ],
      "metadata": {
        "id": "B8g3uw5Qujq8"
      }
    },
    {
      "cell_type": "markdown",
      "source": [
        "Q1. What is statistics, and why is it important?\n",
        "    - Statistics is a way of collecting, organizing, and analyzing data to understand it better and make decisions. It’s important because it helps us find patterns, make predictions, and solve problems in real life like business, health, education, and many more fields.\n",
        "\n",
        "Q2. What are the two main types of statistics?\n",
        "    - The two main types of statistics are Descriptive Statistics and Inferential Statistics. Descriptive statistics deals with summarizing data, while inferential statistics helps us make guesses or predictions about a bigger group based on a small sample.\n",
        "\n",
        "Q3. What are descriptive statistics?\n",
        "    - Descriptive statistics are methods that help us simply describe or show the basic features of data. For example, finding the average marks of students in a class or showing data through graphs and tables.\n",
        "\n",
        "Q4. What is inferential statistics?\n",
        "    - Inferential statistics means using a small amount of data to make conclusions about a larger group. Like, if we survey 100 people in a city and predict the opinion of the whole city's population.\n",
        "\n",
        "Q5. What is sampling in statistics?\n",
        "    - Sampling is the process of selecting a small group from a bigger population to study. Instead of checking every single person or item, we study the sample and draw conclusions.\n",
        "\n",
        "Q6. What are the different types of sampling methods?\n",
        "    - There are several sampling methods like:\n",
        "    - Random sampling (everyone has an equal chance)\n",
        "    - Systematic sampling (select every 10th person, for example)\n",
        "    - Stratified sampling (divide into groups and then sample)\n",
        "    - Cluster sampling (select whole groups instead of individuals)\n",
        "    - Convenience sampling (choose whoever is easiest to reach)\n",
        "\n",
        "Q7. What is the difference between random and non-random sampling?\n",
        "    - In random sampling, every individual has the same chance of being chosen, so it is fair.\n",
        "    - In non-random sampling, some people are more likely to be selected than others, which can make the results biased.\n",
        "\n",
        "Q8. Define and give examples of qualitative and quantitative data.\n",
        "\n",
        "    - Qualitative data is about qualities or categories. Example: Colors of cars (red, blue), or types of fruits (apple, banana).\n",
        "    - Quantitative data is about numbers and measurements. Example: Height of students (in cm), or number of books read.\n",
        "\n",
        "Q9. What are the different types of data in statistics?\n",
        "    - Data types include:\n",
        "    - Qualitative (Categorical) data — like gender, color, type\n",
        "    - Quantitative (Numerical) data — like height, weight, marks Quantitative data can be further divided into:\n",
        "    - Discrete data (countable, like number of siblings)\n",
        "    - Continuous data (measurable, like weight)\n",
        "\n",
        "Q10. Explain nominal, ordinal, interval, and ratio levels of measurement.\n",
        "    - Nominal: Names or labels only. Example: Blood group (A, B, O)\n",
        "    - Ordinal: Order matters, but difference isn’t measured. Example: 1st, 2nd, 3rd place in a race\n",
        "    - Interval: Order and exact difference matter, but no true zero. Example: Temperature in Celsius.\n",
        "    - Ratio: Like interval, but has a true zero. Example: Weight, height, age.\n",
        "\n",
        "Q11. What is the measure of central tendency?                                   \n",
        "    - A measure of central tendency is a value that shows the center or average of a dataset. It helps us understand where most of the data lies. The main ones are mean, median, and mode.\n",
        "\n",
        "Q12. Define mean, median, and mode.\n",
        "    - Mean: The average of all values. Add everything and divide by how many values there are.\n",
        "    - Median: The middle value when numbers are arranged in order.\n",
        "    - Mode: The number that appears most often in the data.\n",
        "\n",
        "Q13. What is the significance of the measure of central tendency?\n",
        "    - It gives us a quick summary of the data by showing the central value. This helps us compare datasets or make decisions easily.\n",
        "\n",
        "Q14. What is variance, and how is it calculated?\n",
        "    - Variance shows how spread out the data is from the mean.\n",
        "    - To calculate it:\n",
        "    - Find the mean\n",
        "    - Subtract the mean from each value and square the result\n",
        "    - Add all squared values and divide by the total number (or n–1 for sample)\n",
        "\n",
        "Q15. What is standard deviation, and why is it important?\n",
        "    - Standard deviation is the square root of variance. It tells us how much the data values deviate from the mean.\n",
        "    - It’s important because it shows how consistent or variable the data is.\n",
        "\n",
        "Q16. Define and explain the term range in statistics.\n",
        "    - Range is the difference between the highest and lowest values in a dataset.\n",
        "    - Formula: Range = Maximum – Minimum\n",
        "    - It gives a basic idea of how spread out the data is.\n",
        "\n",
        "Q17. What is the difference between variance and standard deviation?\n",
        "\n",
        "    - Variance is the average of the squared differences from the mean.\n",
        "\n",
        "    - Standard deviation is the square root of variance.\n",
        "    - Standard deviation is more useful because it’s in the same units as the original data.\n",
        "\n",
        "Q18. What is skewness in a dataset?\n",
        "    - Skewness tells us if the data is symmetric or tilted to one side.\n",
        "    - It shows whether the data has a long tail on the left or right.\n",
        "\n",
        "Q19. What does it mean if a dataset is positively or negatively skewed?\n",
        "\n",
        "    - Positively skewed: Tail is on the right, most values are on the left.\n",
        "\n",
        "    - Negatively skewed: Tail is on the left, most values are on the right.\n",
        "\n",
        "Q20. Define and explain kurtosis.\n",
        "    - Kurtosis tells us how peaked or flat the data distribution is compared to normal.\n",
        "    - High kurtosis: Sharp peak (more outliers)\n",
        "    - Low kurtosis: Flatter peak (less outliers)\n",
        "\n",
        "Q21. What is the purpose of covariance?\n",
        "    - Covariance shows how two variables change together.\n",
        "    - If both increase together, covariance is positive. If one increases and the other decreases, it’s negative.\n",
        "\n",
        "Q22. What does correlation measure in statistics?\n",
        "    - Correlation measures the strength and direction of a relationship between two variables.\n",
        "    - It tells us how closely the two variables move together, using values from –1 to +1.\n",
        "\n",
        "Q23. What is the difference between covariance and correlation?\n",
        "\n",
        "    - Covariance shows the direction of the relationship but doesn’t tell how strong it is.\n",
        "\n",
        "    - Correlation is standardized (between –1 and +1) and shows both direction and strength of the relationship.\n",
        "\n",
        "Q24. What are some real-world applications of statistics?\n",
        "    - Statistics is used in many areas like:\n",
        "\n",
        "    - Healthcare: Analyzing patient data and disease trends\n",
        "\n",
        "    - Business: Market research and sales forecasting\n",
        "\n",
        "    - Government: Census and policy decisions\n",
        "\n",
        "    - Sports: Performance analysis\n",
        "\n",
        "    - Education: Exam results and student performance"
      ],
      "metadata": {
        "id": "rTWPBQ3Pu29k"
      }
    },
    {
      "cell_type": "markdown",
      "source": [
        "# **Practical**\n",
        "\n",
        "---\n",
        "\n"
      ],
      "metadata": {
        "id": "OWRyJ4jzxSPY"
      }
    },
    {
      "cell_type": "markdown",
      "source": [
        "Q1. How do you calculate the mean, median, and mode of a dataset?\n",
        "    - Let’s say we have a dataset: [5, 8, 9, 6, 5, 4, 7]\n",
        "\n",
        "    - Mean = (5 + 8 + 9 + 6 + 5 + 4 + 7) / 7 = 44 / 7 = 6.29 (approx)\n",
        "\n",
        "    - Median = Arrange data: [4, 5, 5, 6, 7, 8, 9] → Middle value = 6\n",
        "\n",
        "    - Mode = The number that repeats the most = 5"
      ],
      "metadata": {
        "id": "n0v7pi0pxXOe"
      }
    },
    {
      "cell_type": "markdown",
      "source": [
        "Q2. Write a Python program to compute the variance and standard deviation of a dataset?"
      ],
      "metadata": {
        "id": "i41JZ_IYxiJx"
      }
    },
    {
      "cell_type": "code",
      "source": [
        "import statistics\n",
        "\n",
        "data = [5, 8, 9, 6, 5, 4, 7]\n",
        "\n",
        "# Variance\n",
        "var = statistics.variance(data)\n",
        "print(\"Variance:\", var)\n",
        "\n",
        "# Standard Deviation\n",
        "std_dev = statistics.stdev(data)\n",
        "print(\"Standard Deviation:\", std_dev)\n"
      ],
      "metadata": {
        "colab": {
          "base_uri": "https://localhost:8080/"
        },
        "id": "zL0k2iiyxk9o",
        "outputId": "90ed91f0-9856-4c21-f46a-d6801b9521f1"
      },
      "execution_count": 1,
      "outputs": [
        {
          "output_type": "stream",
          "name": "stdout",
          "text": [
            "Variance: 3.238095238095238\n",
            "Standard Deviation: 1.7994708216848747\n"
          ]
        }
      ]
    },
    {
      "cell_type": "markdown",
      "source": [
        "Q3. Create a dataset and classify it into nominal, ordinal, interval, and ratio types?"
      ],
      "metadata": {
        "id": "fBMTW6B9xqz7"
      }
    },
    {
      "cell_type": "code",
      "source": [
        "student_data = {\n",
        "    \"Gender\": [\"Male\", \"Female\", \"Male\"],  # Nominal\n",
        "    \"Grades\": [\"A\", \"B\", \"C\"],             # Ordinal\n",
        "    \"Temperature\": [36.5, 37.0, 36.8],     # Interval\n",
        "    \"Height\": [160, 170, 165]              # Ratio\n",
        "}\n"
      ],
      "metadata": {
        "id": "eiBrKkvnxutL"
      },
      "execution_count": 2,
      "outputs": []
    },
    {
      "cell_type": "markdown",
      "source": [
        "Q4. Implement sampling techniques like random sampling and stratified sampling?"
      ],
      "metadata": {
        "id": "Rxuv-m9sxyWI"
      }
    },
    {
      "cell_type": "code",
      "source": [
        "import pandas as pd\n",
        "from sklearn.model_selection import train_test_split\n",
        "\n",
        "data = pd.DataFrame({\n",
        "    \"ID\": range(1, 21),\n",
        "    \"Group\": ['A']*10 + ['B']*10\n",
        "})\n",
        "\n",
        "# Random Sampling (10 samples)\n",
        "random_sample = data.sample(n=10)\n",
        "print(\"Random Sample:\\n\", random_sample)\n",
        "\n",
        "# Stratified Sampling\n",
        "stratified_sample, _ = train_test_split(data, test_size=0.5, stratify=data[\"Group\"])\n",
        "print(\"Stratified Sample:\\n\", stratified_sample)\n"
      ],
      "metadata": {
        "colab": {
          "base_uri": "https://localhost:8080/"
        },
        "id": "UjrgO8eyx1cK",
        "outputId": "1dfcec2e-4a39-49f7-f50e-c848ff3b670c"
      },
      "execution_count": 3,
      "outputs": [
        {
          "output_type": "stream",
          "name": "stdout",
          "text": [
            "Random Sample:\n",
            "     ID Group\n",
            "14  15     B\n",
            "7    8     A\n",
            "17  18     B\n",
            "2    3     A\n",
            "6    7     A\n",
            "10  11     B\n",
            "8    9     A\n",
            "11  12     B\n",
            "12  13     B\n",
            "9   10     A\n",
            "Stratified Sample:\n",
            "     ID Group\n",
            "1    2     A\n",
            "0    1     A\n",
            "6    7     A\n",
            "17  18     B\n",
            "11  12     B\n",
            "8    9     A\n",
            "15  16     B\n",
            "18  19     B\n",
            "2    3     A\n",
            "14  15     B\n"
          ]
        }
      ]
    },
    {
      "cell_type": "markdown",
      "source": [
        "Q5. Write a Python function to calculate the range of a dataset?"
      ],
      "metadata": {
        "id": "WM_elJHEx7Qd"
      }
    },
    {
      "cell_type": "code",
      "source": [
        "def calculate_range(data):\n",
        "    return max(data) - min(data)\n",
        "\n",
        "data = [5, 8, 9, 6, 5, 4, 7]\n",
        "print(\"Range:\", calculate_range(data))\n"
      ],
      "metadata": {
        "colab": {
          "base_uri": "https://localhost:8080/"
        },
        "id": "HITjdsNhx-7b",
        "outputId": "6634ae8f-619e-4f7f-aa0a-2c7ec35005e4"
      },
      "execution_count": 4,
      "outputs": [
        {
          "output_type": "stream",
          "name": "stdout",
          "text": [
            "Range: 5\n"
          ]
        }
      ]
    },
    {
      "cell_type": "markdown",
      "source": [
        "Q6. Create a dataset and plot its histogram to visualize skewness."
      ],
      "metadata": {
        "id": "-r7fadvYyCey"
      }
    },
    {
      "cell_type": "code",
      "source": [
        "import matplotlib.pyplot as plt\n",
        "\n",
        "data = [1, 2, 2, 3, 3, 3, 4, 5, 6, 10]\n",
        "\n",
        "plt.hist(data, bins=5, edgecolor='black')\n",
        "plt.title(\"Histogram to Show Skewness\")\n",
        "plt.xlabel(\"Values\")\n",
        "plt.ylabel(\"Frequency\")\n",
        "plt.show()\n"
      ],
      "metadata": {
        "colab": {
          "base_uri": "https://localhost:8080/",
          "height": 472
        },
        "id": "rSiY0-yoyFDU",
        "outputId": "45a5f4b5-e25a-4f36-c3e8-9688542f3504"
      },
      "execution_count": 5,
      "outputs": [
        {
          "output_type": "display_data",
          "data": {
            "text/plain": [
              "<Figure size 640x480 with 1 Axes>"
            ],
            "image/png": "[encoded data removed]"
          },
          "metadata": {}
        }
      ]
    },
    {
      "cell_type": "markdown",
      "source": [
        "Q7. Calculate skewness and kurtosis of a dataset using Python libraries."
      ],
      "metadata": {
        "id": "KiJ0X6EVyIAs"
      }
    },
    {
      "cell_type": "code",
      "source": [
        "from scipy.stats import skew, kurtosis\n",
        "\n",
        "data = [1, 2, 2, 3, 3, 3, 4, 5, 6, 10]\n",
        "\n",
        "print(\"Skewness:\", skew(data))\n",
        "print(\"Kurtosis:\", kurtosis(data))\n"
      ],
      "metadata": {
        "colab": {
          "base_uri": "https://localhost:8080/"
        },
        "id": "zrn4jYlayKuS",
        "outputId": "db308f58-6e3d-4431-ca29-85fed80a487d"
      },
      "execution_count": 6,
      "outputs": [
        {
          "output_type": "stream",
          "name": "stdout",
          "text": [
            "Skewness: 1.31267471634462\n",
            "Kurtosis: 1.0559020278741693\n"
          ]
        }
      ]
    },
    {
      "cell_type": "markdown",
      "source": [
        "Q8. Generate a dataset and demonstrate positive and negative skewness."
      ],
      "metadata": {
        "id": "TS-rEHv8yPIf"
      }
    },
    {
      "cell_type": "code",
      "source": [
        "import matplotlib.pyplot as plt\n",
        "\n",
        "# Positive skew\n",
        "pos_skew = [1, 2, 2, 3, 3, 3, 4, 5, 6, 15]\n",
        "\n",
        "# Negative skew\n",
        "neg_skew = [1, 9, 10, 10, 10, 11, 12, 13, 14, 15]\n",
        "\n",
        "# Plot both\n",
        "plt.figure(figsize=(10, 4))\n",
        "\n",
        "plt.subplot(1, 2, 1)\n",
        "plt.hist(pos_skew, bins=5, edgecolor='black')\n",
        "plt.title(\"Positive Skew\")\n",
        "\n",
        "plt.subplot(1, 2, 2)\n",
        "plt.hist(neg_skew, bins=5, edgecolor='black')\n",
        "plt.title(\"Negative Skew\")\n",
        "\n",
        "plt.tight_layout()\n",
        "plt.show()\n"
      ],
      "metadata": {
        "colab": {
          "base_uri": "https://localhost:8080/",
          "height": 407
        },
        "id": "oKAPh8EkyUAd",
        "outputId": "fbaa92d2-f825-481a-e1ae-80184b539203"
      },
      "execution_count": 7,
      "outputs": [
        {
          "output_type": "display_data",
          "data": {
            "text/plain": [
              "<Figure size 1000x400 with 2 Axes>"
            ],
            "image/png": "[encoded data removed]"
          },
          "metadata": {}
        }
      ]
    },
    {
      "cell_type": "markdown",
      "source": [
        "Q9. Write a Python script to calculate covariance between two datasets."
      ],
      "metadata": {
        "id": "ca0caIkKyXx7"
      }
    },
    {
      "cell_type": "code",
      "source": [
        "import numpy as np\n",
        "\n",
        "x = [2, 4, 6, 8, 10]\n",
        "y = [1, 3, 5, 7, 9]\n",
        "\n",
        "cov_matrix = np.cov(x, y)\n",
        "print(\"Covariance:\", cov_matrix[0, 1])\n"
      ],
      "metadata": {
        "colab": {
          "base_uri": "https://localhost:8080/"
        },
        "id": "u1d8Z2noyai4",
        "outputId": "e19c2a89-c587-4470-c8a9-11070c575740"
      },
      "execution_count": 8,
      "outputs": [
        {
          "output_type": "stream",
          "name": "stdout",
          "text": [
            "Covariance: 10.0\n"
          ]
        }
      ]
    },
    {
      "cell_type": "markdown",
      "source": [
        "Q10. Write a Python script to calculate the correlation coefficient between two datasets."
      ],
      "metadata": {
        "id": "HFd8LqxaydMj"
      }
    },
    {
      "cell_type": "code",
      "source": [
        "import numpy as np\n",
        "\n",
        "x = [2, 4, 6, 8, 10]\n",
        "y = [1, 3, 5, 7, 9]\n",
        "\n",
        "correlation = np.corrcoef(x, y)\n",
        "print(\"Correlation Coefficient:\", correlation[0, 1])\n"
      ],
      "metadata": {
        "colab": {
          "base_uri": "https://localhost:8080/"
        },
        "id": "jc_owodFygEh",
        "outputId": "e6d3e028-6497-44b8-848a-dd5749bc00b3"
      },
      "execution_count": 9,
      "outputs": [
        {
          "output_type": "stream",
          "name": "stdout",
          "text": [
            "Correlation Coefficient: 0.9999999999999999\n"
          ]
        }
      ]
    },
    {
      "cell_type": "markdown",
      "source": [
        "Q11. Create a scatter plot to visualize the relationship between two variables."
      ],
      "metadata": {
        "id": "qDNoFkIvyi4U"
      }
    },
    {
      "cell_type": "code",
      "source": [
        "import matplotlib.pyplot as plt\n",
        "\n",
        "x = [1, 2, 3, 4, 5]\n",
        "y = [2, 4, 5, 4, 5]\n",
        "\n",
        "plt.scatter(x, y)\n",
        "plt.title(\"Scatter Plot\")\n",
        "plt.xlabel(\"X values\")\n",
        "plt.ylabel(\"Y values\")\n",
        "plt.show()\n"
      ],
      "metadata": {
        "colab": {
          "base_uri": "https://localhost:8080/",
          "height": 472
        },
        "id": "KpKdpHpTyl-5",
        "outputId": "0088e7df-b7dd-4de4-e30f-edcfca1e34fd"
      },
      "execution_count": 10,
      "outputs": [
        {
          "output_type": "display_data",
          "data": {
            "text/plain": [
              "<Figure size 640x480 with 1 Axes>"
            ],
            "image/png": "[encoded data removed]"
          },
          "metadata": {}
        }
      ]
    },
    {
      "cell_type": "markdown",
      "source": [
        "Q12. Implement and compare simple random sampling and systematic sampling."
      ],
      "metadata": {
        "id": "3TntrdDJypQQ"
      }
    },
    {
      "cell_type": "code",
      "source": [
        "import numpy as np\n",
        "import pandas as pd\n",
        "\n",
        "data = pd.DataFrame({\"ID\": range(1, 21)})\n",
        "\n",
        "# Simple random sampling (5 samples)\n",
        "random_sample = data.sample(n=5)\n",
        "\n",
        "# Systematic sampling (every 4th item)\n",
        "k = 4\n",
        "systematic_sample = data.iloc[::k]\n",
        "\n",
        "print(\"Random Sample:\\n\", random_sample)\n",
        "print(\"\\nSystematic Sample:\\n\", systematic_sample)\n"
      ],
      "metadata": {
        "colab": {
          "base_uri": "https://localhost:8080/"
        },
        "id": "9lPTSrewysAk",
        "outputId": "8424deba-1556-476a-88a7-6682bd837451"
      },
      "execution_count": 11,
      "outputs": [
        {
          "output_type": "stream",
          "name": "stdout",
          "text": [
            "Random Sample:\n",
            "     ID\n",
            "4    5\n",
            "11  12\n",
            "17  18\n",
            "7    8\n",
            "18  19\n",
            "\n",
            "Systematic Sample:\n",
            "     ID\n",
            "0    1\n",
            "4    5\n",
            "8    9\n",
            "12  13\n",
            "16  17\n"
          ]
        }
      ]
    },
    {
      "cell_type": "markdown",
      "source": [
        "Q13. Calculate the mean, median, and mode of grouped data."
      ],
      "metadata": {
        "id": "8va7oo2gyuU9"
      }
    },
    {
      "cell_type": "code",
      "source": [
        "import pandas as pd\n",
        "from statistics import mode\n",
        "\n",
        "grouped_data = {\n",
        "    \"Marks\": [\"0-10\", \"10-20\", \"20-30\", \"30-40\", \"40-50\"],\n",
        "    \"Frequency\": [2, 5, 8, 3, 2]\n",
        "}\n",
        "\n",
        "df = pd.DataFrame(grouped_data)\n",
        "\n",
        "# Midpoints for mean calculation\n",
        "df[\"Mid\"] = [5, 15, 25, 35, 45]\n",
        "df[\"f*x\"] = df[\"Frequency\"] * df[\"Mid\"]\n",
        "\n",
        "mean = df[\"f*x\"].sum() / df[\"Frequency\"].sum()\n",
        "print(\"Mean (Grouped):\", mean)\n",
        "\n",
        "# Median and Mode require cumulative frequency method, typically done by hand or advanced logic.\n"
      ],
      "metadata": {
        "colab": {
          "base_uri": "https://localhost:8080/"
        },
        "id": "sWgdRHQPyxri",
        "outputId": "8fb6519a-985d-49c9-942d-88eec11a8367"
      },
      "execution_count": 12,
      "outputs": [
        {
          "output_type": "stream",
          "name": "stdout",
          "text": [
            "Mean (Grouped): 24.0\n"
          ]
        }
      ]
    },
    {
      "cell_type": "markdown",
      "source": [
        "Q14. Simulate data using Python and calculate its central tendency and dispersion."
      ],
      "metadata": {
        "id": "-E9Ft9sfy0TE"
      }
    },
    {
      "cell_type": "code",
      "source": [
        "import numpy as np\n",
        "import statistics as stats\n",
        "\n",
        "data = np.random.normal(loc=50, scale=10, size=100)\n",
        "\n",
        "print(\"Mean:\", np.mean(data))\n",
        "print(\"Median:\", np.median(data))\n",
        "print(\"Mode:\", stats.mode(data))\n",
        "print(\"Standard Deviation:\", np.std(data))\n",
        "print(\"Variance:\", np.var(data))\n"
      ],
      "metadata": {
        "colab": {
          "base_uri": "https://localhost:8080/"
        },
        "id": "nujr6XsMy3MV",
        "outputId": "931f4562-18ee-482e-9c43-09c391ce9ef9"
      },
      "execution_count": 13,
      "outputs": [
        {
          "output_type": "stream",
          "name": "stdout",
          "text": [
            "Mean: 49.96673852474215\n",
            "Median: 50.008093677139954\n",
            "Mode: 69.9830500557007\n",
            "Standard Deviation: 9.301300243787207\n",
            "Variance: 86.51418622507596\n"
          ]
        }
      ]
    },
    {
      "cell_type": "markdown",
      "source": [
        "Q15. Use NumPy or pandas to summarize a dataset’s descriptive statistics."
      ],
      "metadata": {
        "id": "o9NBiwA3y5vy"
      }
    },
    {
      "cell_type": "code",
      "source": [
        "import pandas as pd\n",
        "\n",
        "df = pd.DataFrame({\n",
        "    \"Scores\": [45, 67, 89, 34, 56, 78, 90, 65]\n",
        "})\n",
        "\n",
        "print(df.describe())\n"
      ],
      "metadata": {
        "colab": {
          "base_uri": "https://localhost:8080/"
        },
        "id": "arIbZGJDy8Ce",
        "outputId": "bc466f8f-215a-40d7-ddf6-5a7ffe3a4952"
      },
      "execution_count": 14,
      "outputs": [
        {
          "output_type": "stream",
          "name": "stdout",
          "text": [
            "          Scores\n",
            "count   8.000000\n",
            "mean   65.500000\n",
            "std    20.049938\n",
            "min    34.000000\n",
            "25%    53.250000\n",
            "50%    66.000000\n",
            "75%    80.750000\n",
            "max    90.000000\n"
          ]
        }
      ]
    },
    {
      "cell_type": "markdown",
      "source": [
        "Q16. Plot a boxplot to understand the spread and identify outliers."
      ],
      "metadata": {
        "id": "XSCaWy068vq2"
      }
    },
    {
      "cell_type": "code",
      "source": [
        "import seaborn as sns\n",
        "import matplotlib.pyplot as plt\n",
        "\n",
        "data = [25, 30, 35, 40, 45, 50, 55, 100]  # 100 is an outlier\n",
        "\n",
        "sns.boxplot(data)\n",
        "plt.title(\"Boxplot Example\")\n",
        "plt.show()\n"
      ],
      "metadata": {
        "colab": {
          "base_uri": "https://localhost:8080/",
          "height": 433
        },
        "id": "ZtJVIOe69EuU",
        "outputId": "1d8c6793-b1d3-48f0-c584-bbd570c3d452"
      },
      "execution_count": 15,
      "outputs": [
        {
          "output_type": "display_data",
          "data": {
            "text/plain": [
              "<Figure size 640x480 with 1 Axes>"
            ],
            "image/png": "[encoded data removed]"
          },
          "metadata": {}
        }
      ]
    },
    {
      "cell_type": "markdown",
      "source": [
        "Q17. Calculate the interquartile range (IQR) of a dataset."
      ],
      "metadata": {
        "id": "EjT7R-dX9HiX"
      }
    },
    {
      "cell_type": "code",
      "source": [
        "import numpy as np\n",
        "\n",
        "data = [12, 15, 14, 10, 18, 20, 25]\n",
        "\n",
        "Q1 = np.percentile(data, 25)\n",
        "Q3 = np.percentile(data, 75)\n",
        "IQR = Q3 - Q1\n",
        "\n",
        "print(\"IQR:\", IQR)\n"
      ],
      "metadata": {
        "colab": {
          "base_uri": "https://localhost:8080/"
        },
        "id": "LkYwopqC9XYk",
        "outputId": "4bdc60f4-4306-4ee1-c9e3-3ac14c544727"
      },
      "execution_count": 16,
      "outputs": [
        {
          "output_type": "stream",
          "name": "stdout",
          "text": [
            "IQR: 6.0\n"
          ]
        }
      ]
    },
    {
      "cell_type": "markdown",
      "source": [
        "Q18. Implement Z-score normalization and explain its significance."
      ],
      "metadata": {
        "id": "5D0R7I7e9ZUn"
      }
    },
    {
      "cell_type": "code",
      "source": [
        "import numpy as np\n",
        "from scipy.stats import zscore\n",
        "\n",
        "data = [10, 20, 30, 40, 50]\n",
        "z_scores = zscore(data)\n",
        "\n",
        "print(\"Z-scores:\", z_scores)\n",
        "# Z-score tells how many std devs a value is from the mean. Helps standardize data.\n"
      ],
      "metadata": {
        "colab": {
          "base_uri": "https://localhost:8080/"
        },
        "id": "uFJKT8X19bzs",
        "outputId": "982bf8fe-ffec-41bf-b9f1-43442c878e18"
      },
      "execution_count": 17,
      "outputs": [
        {
          "output_type": "stream",
          "name": "stdout",
          "text": [
            "Z-scores: [-1.41421356 -0.70710678  0.          0.70710678  1.41421356]\n"
          ]
        }
      ]
    },
    {
      "cell_type": "markdown",
      "source": [
        "Q19. Compare two datasets using their standard deviations."
      ],
      "metadata": {
        "id": "y6I5rH-g9jBk"
      }
    },
    {
      "cell_type": "code",
      "source": [
        "import numpy as np\n",
        "\n",
        "data1 = [10, 12, 14, 16, 18]\n",
        "data2 = [10, 5, 30, 3, 50]\n",
        "\n",
        "print(\"Std Dev of data1:\", np.std(data1))\n",
        "print(\"Std Dev of data2:\", np.std(data2))\n",
        "# Higher std dev means more spread in data2.\n"
      ],
      "metadata": {
        "colab": {
          "base_uri": "https://localhost:8080/"
        },
        "id": "Aj_9DGj99mIM",
        "outputId": "02414a80-7b75-4c42-ce13-bcee4ce0b315"
      },
      "execution_count": 18,
      "outputs": [
        {
          "output_type": "stream",
          "name": "stdout",
          "text": [
            "Std Dev of data1: 2.8284271247461903\n",
            "Std Dev of data2: 17.962182495454165\n"
          ]
        }
      ]
    },
    {
      "cell_type": "markdown",
      "source": [
        "Q20. Write a Python program to visualize covariance using a heatmap."
      ],
      "metadata": {
        "id": "NVqnYu8a9pFy"
      }
    },
    {
      "cell_type": "code",
      "source": [
        "import pandas as pd\n",
        "import seaborn as sns\n",
        "import matplotlib.pyplot as plt\n",
        "\n",
        "df = pd.DataFrame({\n",
        "    \"X\": [10, 20, 30, 40, 50],\n",
        "    \"Y\": [5, 15, 25, 35, 45]\n",
        "})\n",
        "\n",
        "cov_matrix = df.cov()\n",
        "\n",
        "sns.heatmap(cov_matrix, annot=True, cmap='coolwarm')\n",
        "plt.title(\"Covariance Heatmap\")\n",
        "plt.show()\n"
      ],
      "metadata": {
        "colab": {
          "base_uri": "https://localhost:8080/",
          "height": 452
        },
        "id": "D9s3V3tI9sC5",
        "outputId": "0b35926a-4cb5-44ae-e285-6d2d6f21dbed"
      },
      "execution_count": 19,
      "outputs": [
        {
          "output_type": "display_data",
          "data": {
            "text/plain": [
              "<Figure size 640x480 with 2 Axes>"
            ],
            "image/png": "[encoded data removed]"
          },
          "metadata": {}
        }
      ]
    },
    {
      "cell_type": "markdown",
      "source": [
        "Q21. Use seaborn to create a correlation matrix for a dataset."
      ],
      "metadata": {
        "id": "X83AGoDzCB3d"
      }
    },
    {
      "cell_type": "code",
      "source": [
        "import seaborn as sns\n",
        "import pandas as pd\n",
        "import matplotlib.pyplot as plt\n",
        "\n",
        "df = pd.DataFrame({\n",
        "    \"A\": [10, 20, 30, 40, 50],\n",
        "    \"B\": [5, 15, 25, 35, 45],\n",
        "    \"C\": [50, 40, 30, 20, 10]\n",
        "})\n",
        "\n",
        "corr_matrix = df.corr()\n",
        "\n",
        "sns.heatmap(corr_matrix, annot=True, cmap=\"YlGnBu\")\n",
        "plt.title(\"Correlation Matrix\")\n",
        "plt.show()\n"
      ],
      "metadata": {
        "colab": {
          "base_uri": "https://localhost:8080/",
          "height": 452
        },
        "id": "lQ26d7rcCEtP",
        "outputId": "d2327124-9f7e-4166-884e-79ba1c485ed4"
      },
      "execution_count": 20,
      "outputs": [
        {
          "output_type": "display_data",
          "data": {
            "text/plain": [
              "<Figure size 640x480 with 2 Axes>"
            ],
            "image/png": "[encoded data removed]"
          },
          "metadata": {}
        }
      ]
    },
    {
      "cell_type": "markdown",
      "source": [
        "Q22. Generate a dataset and implement both variance and standard deviation computations."
      ],
      "metadata": {
        "id": "oXbfzqlpCJho"
      }
    },
    {
      "cell_type": "code",
      "source": [
        "import numpy as np\n",
        "\n",
        "data = np.random.randint(10, 100, size=10)\n",
        "\n",
        "print(\"Data:\", data)\n",
        "print(\"Variance:\", np.var(data))\n",
        "print(\"Standard Deviation:\", np.std(data))\n"
      ],
      "metadata": {
        "colab": {
          "base_uri": "https://localhost:8080/"
        },
        "id": "w3FTvjt0CMhI",
        "outputId": "4a3037e0-0fb0-458b-fd3d-8c6257986576"
      },
      "execution_count": 21,
      "outputs": [
        {
          "output_type": "stream",
          "name": "stdout",
          "text": [
            "Data: [61 64 63 37 93 80 61 32 99 47]\n",
            "Variance: 438.2099999999999\n",
            "Standard Deviation: 20.93346602930341\n"
          ]
        }
      ]
    },
    {
      "cell_type": "markdown",
      "source": [
        "Q23. Visualize skewness and kurtosis using Python libraries like matplotlib or seaborn."
      ],
      "metadata": {
        "id": "Jx16j-QcCQHB"
      }
    },
    {
      "cell_type": "code",
      "source": [
        "import seaborn as sns\n",
        "import matplotlib.pyplot as plt\n",
        "from scipy.stats import skew, kurtosis\n",
        "\n",
        "data = [1, 2, 2, 3, 3, 3, 4, 5, 6, 20]\n",
        "\n",
        "sns.histplot(data, kde=True)\n",
        "plt.title(\"Skewness and Kurtosis Visualization\")\n",
        "plt.show()\n",
        "\n",
        "print(\"Skewness:\", skew(data))\n",
        "print(\"Kurtosis:\", kurtosis(data))\n"
      ],
      "metadata": {
        "colab": {
          "base_uri": "https://localhost:8080/",
          "height": 487
        },
        "id": "Mp-B2iceCTGD",
        "outputId": "03493296-a473-4873-cfe7-be0135c21a98"
      },
      "execution_count": 22,
      "outputs": [
        {
          "output_type": "display_data",
          "data": {
            "text/plain": [
              "<Figure size 640x480 with 1 Axes>"
            ],
            "image/png": "[encoded data removed]"
          },
          "metadata": {}
        },
        {
          "output_type": "stream",
          "name": "stdout",
          "text": [
            "Skewness: 2.3252117444992106\n",
            "Kurtosis: 4.036319858055942\n"
          ]
        }
      ]
    },
    {
      "cell_type": "markdown",
      "source": [
        "Q24. Implement the Pearson and Spearman correlation coefficients for a dataset."
      ],
      "metadata": {
        "id": "kTto-wiLCV8f"
      }
    },
    {
      "cell_type": "code",
      "source": [
        "from scipy.stats import pearsonr, spearmanr\n",
        "\n",
        "x = [1, 2, 3, 4, 5]\n",
        "y = [2, 4, 5, 4, 5]\n",
        "\n",
        "pearson_corr, _ = pearsonr(x, y)\n",
        "spearman_corr, _ = spearmanr(x, y)\n",
        "\n",
        "print(\"Pearson Correlation:\", pearson_corr)\n",
        "print(\"Spearman Correlation:\", spearman_corr)\n"
      ],
      "metadata": {
        "colab": {
          "base_uri": "https://localhost:8080/"
        },
        "id": "UeFWaIksCYS7",
        "outputId": "e9b3855c-1f07-4605-8d19-d8a947291d22"
      },
      "execution_count": 23,
      "outputs": [
        {
          "output_type": "stream",
          "name": "stdout",
          "text": [
            "Pearson Correlation: 0.7745966692414834\n",
            "Spearman Correlation: 0.7378647873726218\n"
          ]
        }
      ]
    }
  ]
}